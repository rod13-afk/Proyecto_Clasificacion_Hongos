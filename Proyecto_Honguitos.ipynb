{
 "cells": [
  {
   "cell_type": "markdown",
   "metadata": {},
   "source": [
    "# Clasificacion de hongos"
   ]
  },
  {
   "cell_type": "markdown",
   "metadata": {},
   "source": [
    "## Analisis y manipulacion de datos "
   ]
  },
  {
   "cell_type": "code",
   "execution_count": 1,
   "metadata": {},
   "outputs": [
    {
     "data": {
      "text/html": [
       "<div>\n",
       "<style scoped>\n",
       "    .dataframe tbody tr th:only-of-type {\n",
       "        vertical-align: middle;\n",
       "    }\n",
       "\n",
       "    .dataframe tbody tr th {\n",
       "        vertical-align: top;\n",
       "    }\n",
       "\n",
       "    .dataframe thead th {\n",
       "        text-align: right;\n",
       "    }\n",
       "</style>\n",
       "<table border=\"1\" class=\"dataframe\">\n",
       "  <thead>\n",
       "    <tr style=\"text-align: right;\">\n",
       "      <th></th>\n",
       "      <th>0</th>\n",
       "      <th>1</th>\n",
       "      <th>2</th>\n",
       "      <th>3</th>\n",
       "      <th>4</th>\n",
       "      <th>5</th>\n",
       "      <th>6</th>\n",
       "      <th>7</th>\n",
       "      <th>8</th>\n",
       "      <th>9</th>\n",
       "      <th>...</th>\n",
       "      <th>13</th>\n",
       "      <th>14</th>\n",
       "      <th>15</th>\n",
       "      <th>16</th>\n",
       "      <th>17</th>\n",
       "      <th>18</th>\n",
       "      <th>19</th>\n",
       "      <th>20</th>\n",
       "      <th>21</th>\n",
       "      <th>22</th>\n",
       "    </tr>\n",
       "  </thead>\n",
       "  <tbody>\n",
       "    <tr>\n",
       "      <th>0</th>\n",
       "      <td>EDIBLE</td>\n",
       "      <td>CONVEX</td>\n",
       "      <td>SMOOTH</td>\n",
       "      <td>WHITE</td>\n",
       "      <td>BRUISES</td>\n",
       "      <td>ALMOND</td>\n",
       "      <td>FREE</td>\n",
       "      <td>CROWDED</td>\n",
       "      <td>NARROW</td>\n",
       "      <td>WHITE</td>\n",
       "      <td>...</td>\n",
       "      <td>SMOOTH</td>\n",
       "      <td>WHITE</td>\n",
       "      <td>WHITE</td>\n",
       "      <td>PARTIAL</td>\n",
       "      <td>WHITE</td>\n",
       "      <td>ONE</td>\n",
       "      <td>PENDANT</td>\n",
       "      <td>PURPLE</td>\n",
       "      <td>SEVERAL</td>\n",
       "      <td>WOODS</td>\n",
       "    </tr>\n",
       "    <tr>\n",
       "      <th>1</th>\n",
       "      <td>EDIBLE</td>\n",
       "      <td>CONVEX</td>\n",
       "      <td>SMOOTH</td>\n",
       "      <td>WHITE</td>\n",
       "      <td>BRUISES</td>\n",
       "      <td>ALMOND</td>\n",
       "      <td>FREE</td>\n",
       "      <td>CROWDED</td>\n",
       "      <td>NARROW</td>\n",
       "      <td>WHITE</td>\n",
       "      <td>...</td>\n",
       "      <td>SMOOTH</td>\n",
       "      <td>WHITE</td>\n",
       "      <td>WHITE</td>\n",
       "      <td>PARTIAL</td>\n",
       "      <td>WHITE</td>\n",
       "      <td>ONE</td>\n",
       "      <td>PENDANT</td>\n",
       "      <td>BROWN</td>\n",
       "      <td>SEVERAL</td>\n",
       "      <td>WOODS</td>\n",
       "    </tr>\n",
       "    <tr>\n",
       "      <th>2</th>\n",
       "      <td>EDIBLE</td>\n",
       "      <td>CONVEX</td>\n",
       "      <td>SMOOTH</td>\n",
       "      <td>WHITE</td>\n",
       "      <td>BRUISES</td>\n",
       "      <td>ALMOND</td>\n",
       "      <td>FREE</td>\n",
       "      <td>CROWDED</td>\n",
       "      <td>NARROW</td>\n",
       "      <td>PINK</td>\n",
       "      <td>...</td>\n",
       "      <td>SMOOTH</td>\n",
       "      <td>WHITE</td>\n",
       "      <td>WHITE</td>\n",
       "      <td>PARTIAL</td>\n",
       "      <td>WHITE</td>\n",
       "      <td>ONE</td>\n",
       "      <td>PENDANT</td>\n",
       "      <td>PURPLE</td>\n",
       "      <td>SEVERAL</td>\n",
       "      <td>WOODS</td>\n",
       "    </tr>\n",
       "    <tr>\n",
       "      <th>3</th>\n",
       "      <td>EDIBLE</td>\n",
       "      <td>CONVEX</td>\n",
       "      <td>SMOOTH</td>\n",
       "      <td>WHITE</td>\n",
       "      <td>BRUISES</td>\n",
       "      <td>ALMOND</td>\n",
       "      <td>FREE</td>\n",
       "      <td>CROWDED</td>\n",
       "      <td>NARROW</td>\n",
       "      <td>PINK</td>\n",
       "      <td>...</td>\n",
       "      <td>SMOOTH</td>\n",
       "      <td>WHITE</td>\n",
       "      <td>WHITE</td>\n",
       "      <td>PARTIAL</td>\n",
       "      <td>WHITE</td>\n",
       "      <td>ONE</td>\n",
       "      <td>PENDANT</td>\n",
       "      <td>BROWN</td>\n",
       "      <td>SEVERAL</td>\n",
       "      <td>WOODS</td>\n",
       "    </tr>\n",
       "    <tr>\n",
       "      <th>4</th>\n",
       "      <td>EDIBLE</td>\n",
       "      <td>CONVEX</td>\n",
       "      <td>SMOOTH</td>\n",
       "      <td>WHITE</td>\n",
       "      <td>BRUISES</td>\n",
       "      <td>ALMOND</td>\n",
       "      <td>FREE</td>\n",
       "      <td>CROWDED</td>\n",
       "      <td>NARROW</td>\n",
       "      <td>BROWN</td>\n",
       "      <td>...</td>\n",
       "      <td>SMOOTH</td>\n",
       "      <td>WHITE</td>\n",
       "      <td>WHITE</td>\n",
       "      <td>PARTIAL</td>\n",
       "      <td>WHITE</td>\n",
       "      <td>ONE</td>\n",
       "      <td>PENDANT</td>\n",
       "      <td>PURPLE</td>\n",
       "      <td>SEVERAL</td>\n",
       "      <td>WOODS</td>\n",
       "    </tr>\n",
       "  </tbody>\n",
       "</table>\n",
       "<p>5 rows × 23 columns</p>\n",
       "</div>"
      ],
      "text/plain": [
       "       0       1       2      3        4       5     6        7       8   \\\n",
       "0  EDIBLE  CONVEX  SMOOTH  WHITE  BRUISES  ALMOND  FREE  CROWDED  NARROW   \n",
       "1  EDIBLE  CONVEX  SMOOTH  WHITE  BRUISES  ALMOND  FREE  CROWDED  NARROW   \n",
       "2  EDIBLE  CONVEX  SMOOTH  WHITE  BRUISES  ALMOND  FREE  CROWDED  NARROW   \n",
       "3  EDIBLE  CONVEX  SMOOTH  WHITE  BRUISES  ALMOND  FREE  CROWDED  NARROW   \n",
       "4  EDIBLE  CONVEX  SMOOTH  WHITE  BRUISES  ALMOND  FREE  CROWDED  NARROW   \n",
       "\n",
       "      9   ...      13     14     15       16     17   18       19      20  \\\n",
       "0  WHITE  ...  SMOOTH  WHITE  WHITE  PARTIAL  WHITE  ONE  PENDANT  PURPLE   \n",
       "1  WHITE  ...  SMOOTH  WHITE  WHITE  PARTIAL  WHITE  ONE  PENDANT   BROWN   \n",
       "2   PINK  ...  SMOOTH  WHITE  WHITE  PARTIAL  WHITE  ONE  PENDANT  PURPLE   \n",
       "3   PINK  ...  SMOOTH  WHITE  WHITE  PARTIAL  WHITE  ONE  PENDANT   BROWN   \n",
       "4  BROWN  ...  SMOOTH  WHITE  WHITE  PARTIAL  WHITE  ONE  PENDANT  PURPLE   \n",
       "\n",
       "        21     22  \n",
       "0  SEVERAL  WOODS  \n",
       "1  SEVERAL  WOODS  \n",
       "2  SEVERAL  WOODS  \n",
       "3  SEVERAL  WOODS  \n",
       "4  SEVERAL  WOODS  \n",
       "\n",
       "[5 rows x 23 columns]"
      ]
     },
     "execution_count": 1,
     "metadata": {},
     "output_type": "execute_result"
    }
   ],
   "source": [
    "import os\n",
    "import pandas as pd \n",
    "\n",
    "# Leer el archivo\n",
    "df = pd.read_csv( '../Hongos-20220225/data.csv', header=None)\n",
    "df.head()\n"
   ]
  },
  {
   "cell_type": "code",
   "execution_count": 2,
   "metadata": {},
   "outputs": [
    {
     "name": "stdout",
     "output_type": "stream",
     "text": [
      "<class 'pandas.core.frame.DataFrame'>\n",
      "RangeIndex: 8416 entries, 0 to 8415\n",
      "Data columns (total 23 columns):\n",
      " #   Column                    Non-Null Count  Dtype \n",
      "---  ------                    --------------  ----- \n",
      " 0   class                     8416 non-null   object\n",
      " 1   cap-shape                 8416 non-null   object\n",
      " 2   cap-surface               8416 non-null   object\n",
      " 3   cap-color                 8416 non-null   object\n",
      " 4   bruises?                  8416 non-null   object\n",
      " 5   odor                      8416 non-null   object\n",
      " 6   gill-attachment           8416 non-null   object\n",
      " 7   gill-spacing              8416 non-null   object\n",
      " 8   gill-size                 8416 non-null   object\n",
      " 9   gill-color                8416 non-null   object\n",
      " 10  stalk-shape               8416 non-null   object\n",
      " 11  stalk-root                8416 non-null   object\n",
      " 12  stalk-surface-above-ring  8416 non-null   object\n",
      " 13  stalk-surface-below-ring  8416 non-null   object\n",
      " 14  stalk-color-above-ring    8416 non-null   object\n",
      " 15  stalk-color-below-ring    8416 non-null   object\n",
      " 16  veil-type                 8416 non-null   object\n",
      " 17  veil-color                8416 non-null   object\n",
      " 18  ring-number               8416 non-null   object\n",
      " 19  ring-type                 8416 non-null   object\n",
      " 20  spore-print-color         8416 non-null   object\n",
      " 21  population                8416 non-null   object\n",
      " 22  habitat                   8416 non-null   object\n",
      "dtypes: object(23)\n",
      "memory usage: 1.5+ MB\n"
     ]
    }
   ],
   "source": [
    "# Renombrar las columnas del data frame \n",
    "df = df.rename(columns={0: \"class\", 1: \"cap-shape\", 2: \"cap-surface\", 3: \"cap-color\", 4: \"bruises?\", 5: \"odor\", 6: \"gill-attachment\", 7: \"gill-spacing\", 8: \"gill-size\", 9: \"gill-color\", 10: \"stalk-shape\", 11: \"stalk-root\", 12: \"stalk-surface-above-ring\", 13: \"stalk-surface-below-ring\", 14: \"stalk-color-above-ring\", 15: \"stalk-color-below-ring\", 16: \"veil-type\", 17: \"veil-color\", 18: \"ring-number\", 19: \"ring-type\", 20: \"spore-print-color\", 21: \"population\", 22: \"habitat\"})\n",
    "\n",
    "df.info()"
   ]
  },
  {
   "cell_type": "code",
   "execution_count": 3,
   "metadata": {},
   "outputs": [
    {
     "data": {
      "text/html": [
       "<div>\n",
       "<style scoped>\n",
       "    .dataframe tbody tr th:only-of-type {\n",
       "        vertical-align: middle;\n",
       "    }\n",
       "\n",
       "    .dataframe tbody tr th {\n",
       "        vertical-align: top;\n",
       "    }\n",
       "\n",
       "    .dataframe thead th {\n",
       "        text-align: right;\n",
       "    }\n",
       "</style>\n",
       "<table border=\"1\" class=\"dataframe\">\n",
       "  <thead>\n",
       "    <tr style=\"text-align: right;\">\n",
       "      <th></th>\n",
       "      <th>class</th>\n",
       "      <th>cap-shape</th>\n",
       "      <th>cap-surface</th>\n",
       "      <th>cap-color</th>\n",
       "      <th>bruises?</th>\n",
       "      <th>odor</th>\n",
       "      <th>gill-attachment</th>\n",
       "      <th>gill-spacing</th>\n",
       "      <th>gill-size</th>\n",
       "      <th>gill-color</th>\n",
       "      <th>...</th>\n",
       "      <th>stalk-surface-below-ring</th>\n",
       "      <th>stalk-color-above-ring</th>\n",
       "      <th>stalk-color-below-ring</th>\n",
       "      <th>veil-type</th>\n",
       "      <th>veil-color</th>\n",
       "      <th>ring-number</th>\n",
       "      <th>ring-type</th>\n",
       "      <th>spore-print-color</th>\n",
       "      <th>population</th>\n",
       "      <th>habitat</th>\n",
       "    </tr>\n",
       "  </thead>\n",
       "  <tbody>\n",
       "    <tr>\n",
       "      <th>count</th>\n",
       "      <td>8416</td>\n",
       "      <td>8416</td>\n",
       "      <td>8416</td>\n",
       "      <td>8416</td>\n",
       "      <td>8416</td>\n",
       "      <td>8416</td>\n",
       "      <td>8416</td>\n",
       "      <td>8416</td>\n",
       "      <td>8416</td>\n",
       "      <td>8416</td>\n",
       "      <td>...</td>\n",
       "      <td>8416</td>\n",
       "      <td>8416</td>\n",
       "      <td>8416</td>\n",
       "      <td>8416</td>\n",
       "      <td>8416</td>\n",
       "      <td>8416</td>\n",
       "      <td>8416</td>\n",
       "      <td>8416</td>\n",
       "      <td>8416</td>\n",
       "      <td>8416</td>\n",
       "    </tr>\n",
       "    <tr>\n",
       "      <th>unique</th>\n",
       "      <td>2</td>\n",
       "      <td>6</td>\n",
       "      <td>4</td>\n",
       "      <td>10</td>\n",
       "      <td>2</td>\n",
       "      <td>9</td>\n",
       "      <td>2</td>\n",
       "      <td>2</td>\n",
       "      <td>2</td>\n",
       "      <td>12</td>\n",
       "      <td>...</td>\n",
       "      <td>4</td>\n",
       "      <td>9</td>\n",
       "      <td>9</td>\n",
       "      <td>1</td>\n",
       "      <td>4</td>\n",
       "      <td>3</td>\n",
       "      <td>5</td>\n",
       "      <td>9</td>\n",
       "      <td>6</td>\n",
       "      <td>7</td>\n",
       "    </tr>\n",
       "    <tr>\n",
       "      <th>top</th>\n",
       "      <td>EDIBLE</td>\n",
       "      <td>CONVEX</td>\n",
       "      <td>SCALY</td>\n",
       "      <td>BROWN</td>\n",
       "      <td>NO</td>\n",
       "      <td>NONE</td>\n",
       "      <td>FREE</td>\n",
       "      <td>CLOSE</td>\n",
       "      <td>BROAD</td>\n",
       "      <td>BUFF</td>\n",
       "      <td>...</td>\n",
       "      <td>SMOOTH</td>\n",
       "      <td>WHITE</td>\n",
       "      <td>WHITE</td>\n",
       "      <td>PARTIAL</td>\n",
       "      <td>WHITE</td>\n",
       "      <td>ONE</td>\n",
       "      <td>PENDANT</td>\n",
       "      <td>WHITE</td>\n",
       "      <td>SEVERAL</td>\n",
       "      <td>WOODS</td>\n",
       "    </tr>\n",
       "    <tr>\n",
       "      <th>freq</th>\n",
       "      <td>4488</td>\n",
       "      <td>3796</td>\n",
       "      <td>3268</td>\n",
       "      <td>2320</td>\n",
       "      <td>5040</td>\n",
       "      <td>3808</td>\n",
       "      <td>8200</td>\n",
       "      <td>6824</td>\n",
       "      <td>5880</td>\n",
       "      <td>1728</td>\n",
       "      <td>...</td>\n",
       "      <td>5076</td>\n",
       "      <td>4744</td>\n",
       "      <td>4640</td>\n",
       "      <td>8416</td>\n",
       "      <td>8216</td>\n",
       "      <td>7768</td>\n",
       "      <td>3968</td>\n",
       "      <td>2424</td>\n",
       "      <td>4064</td>\n",
       "      <td>3160</td>\n",
       "    </tr>\n",
       "  </tbody>\n",
       "</table>\n",
       "<p>4 rows × 23 columns</p>\n",
       "</div>"
      ],
      "text/plain": [
       "         class cap-shape cap-surface cap-color bruises?  odor gill-attachment  \\\n",
       "count     8416      8416        8416      8416     8416  8416            8416   \n",
       "unique       2         6           4        10        2     9               2   \n",
       "top     EDIBLE    CONVEX       SCALY     BROWN       NO  NONE            FREE   \n",
       "freq      4488      3796        3268      2320     5040  3808            8200   \n",
       "\n",
       "       gill-spacing gill-size gill-color  ... stalk-surface-below-ring  \\\n",
       "count          8416      8416       8416  ...                     8416   \n",
       "unique            2         2         12  ...                        4   \n",
       "top           CLOSE     BROAD       BUFF  ...                   SMOOTH   \n",
       "freq           6824      5880       1728  ...                     5076   \n",
       "\n",
       "       stalk-color-above-ring stalk-color-below-ring veil-type veil-color  \\\n",
       "count                    8416                   8416      8416       8416   \n",
       "unique                      9                      9         1          4   \n",
       "top                     WHITE                  WHITE   PARTIAL      WHITE   \n",
       "freq                     4744                   4640      8416       8216   \n",
       "\n",
       "       ring-number ring-type spore-print-color population habitat  \n",
       "count         8416      8416              8416       8416    8416  \n",
       "unique           3         5                 9          6       7  \n",
       "top            ONE   PENDANT             WHITE    SEVERAL   WOODS  \n",
       "freq          7768      3968              2424       4064    3160  \n",
       "\n",
       "[4 rows x 23 columns]"
      ]
     },
     "execution_count": 3,
     "metadata": {},
     "output_type": "execute_result"
    }
   ],
   "source": [
    "# Resumen de los datos y sus atributos\n",
    "df2 = df.describe()\n",
    "\n",
    "df2"
   ]
  },
  {
   "cell_type": "code",
   "execution_count": 4,
   "metadata": {},
   "outputs": [
    {
     "data": {
      "text/plain": [
       "class                        True\n",
       "cap-shape                    True\n",
       "cap-surface                  True\n",
       "cap-color                    True\n",
       "bruises?                     True\n",
       "odor                         True\n",
       "gill-attachment              True\n",
       "gill-spacing                 True\n",
       "gill-size                    True\n",
       "gill-color                   True\n",
       "stalk-shape                  True\n",
       "stalk-root                   True\n",
       "stalk-surface-above-ring     True\n",
       "stalk-surface-below-ring     True\n",
       "stalk-color-above-ring       True\n",
       "stalk-color-below-ring       True\n",
       "veil-type                   False\n",
       "veil-color                   True\n",
       "ring-number                  True\n",
       "ring-type                    True\n",
       "spore-print-color            True\n",
       "population                   True\n",
       "habitat                      True\n",
       "Name: unique, dtype: bool"
      ]
     },
     "execution_count": 4,
     "metadata": {},
     "output_type": "execute_result"
    }
   ],
   "source": [
    "# Confirmar que una de las columnas posee solo un valor \n",
    "df2.loc[\"unique\"] > 1"
   ]
  },
  {
   "cell_type": "code",
   "execution_count": 5,
   "metadata": {},
   "outputs": [
    {
     "data": {
      "text/plain": [
       "class                       0\n",
       "cap-shape                   0\n",
       "cap-surface                 0\n",
       "cap-color                   0\n",
       "bruises?                    0\n",
       "odor                        0\n",
       "gill-attachment             0\n",
       "gill-spacing                0\n",
       "gill-size                   0\n",
       "gill-color                  0\n",
       "stalk-shape                 0\n",
       "stalk-root                  0\n",
       "stalk-surface-above-ring    0\n",
       "stalk-surface-below-ring    0\n",
       "stalk-color-above-ring      0\n",
       "stalk-color-below-ring      0\n",
       "veil-type                   0\n",
       "veil-color                  0\n",
       "ring-number                 0\n",
       "ring-type                   0\n",
       "spore-print-color           0\n",
       "population                  0\n",
       "habitat                     0\n",
       "dtype: int64"
      ]
     },
     "execution_count": 5,
     "metadata": {},
     "output_type": "execute_result"
    }
   ],
   "source": [
    "# Identificar valores nulos\n",
    "df.isnull().sum()"
   ]
  },
  {
   "cell_type": "code",
   "execution_count": 6,
   "metadata": {},
   "outputs": [],
   "source": [
    "df = df.astype('category')\n",
    "df.dtypes\n",
    "\n",
    "# Using LabelEncoder to convert category values to ordinal\n",
    "from sklearn.preprocessing import LabelEncoder\n",
    "labelencoder=LabelEncoder()\n",
    "for column in df.columns:\n",
    "    df[column] = labelencoder.fit_transform(df[column])\n",
    "\n",
    "\n"
   ]
  },
  {
   "cell_type": "code",
   "execution_count": 7,
   "metadata": {},
   "outputs": [],
   "source": [
    "# Eliminar atributo no significativo\n",
    "df = df.drop([\"veil-type\"],axis=1)"
   ]
  },
  {
   "cell_type": "code",
   "execution_count": 8,
   "metadata": {},
   "outputs": [
    {
     "name": "stdout",
     "output_type": "stream",
     "text": [
      "<class 'pandas.core.frame.DataFrame'>\n",
      "RangeIndex: 8416 entries, 0 to 8415\n",
      "Data columns (total 22 columns):\n",
      " #   Column                    Non-Null Count  Dtype\n",
      "---  ------                    --------------  -----\n",
      " 0   class                     8416 non-null   int64\n",
      " 1   cap-shape                 8416 non-null   int64\n",
      " 2   cap-surface               8416 non-null   int64\n",
      " 3   cap-color                 8416 non-null   int64\n",
      " 4   bruises?                  8416 non-null   int64\n",
      " 5   odor                      8416 non-null   int64\n",
      " 6   gill-attachment           8416 non-null   int64\n",
      " 7   gill-spacing              8416 non-null   int64\n",
      " 8   gill-size                 8416 non-null   int64\n",
      " 9   gill-color                8416 non-null   int64\n",
      " 10  stalk-shape               8416 non-null   int64\n",
      " 11  stalk-root                8416 non-null   int64\n",
      " 12  stalk-surface-above-ring  8416 non-null   int64\n",
      " 13  stalk-surface-below-ring  8416 non-null   int64\n",
      " 14  stalk-color-above-ring    8416 non-null   int64\n",
      " 15  stalk-color-below-ring    8416 non-null   int64\n",
      " 16  veil-color                8416 non-null   int64\n",
      " 17  ring-number               8416 non-null   int64\n",
      " 18  ring-type                 8416 non-null   int64\n",
      " 19  spore-print-color         8416 non-null   int64\n",
      " 20  population                8416 non-null   int64\n",
      " 21  habitat                   8416 non-null   int64\n",
      "dtypes: int64(22)\n",
      "memory usage: 1.4 MB\n"
     ]
    }
   ],
   "source": [
    "# Confirmar la informacion final\n",
    "df.info()"
   ]
  },
  {
   "cell_type": "code",
   "execution_count": 9,
   "metadata": {},
   "outputs": [],
   "source": [
    "# Preparacion de los datos \n",
    "from sklearn.model_selection import train_test_split\n",
    "\n",
    "# Columna \"class\" convertida en un arreglo de numpy.\n",
    "y = df[\"class\"].values\n",
    "\n",
    "# Se conservan todos los datos excepto la columna \"class\".\n",
    "X = df.drop([\"class\"], axis=1).values\n",
    "\n",
    "# Dividir el dataset para entrenamiento y prediccion.\n",
    "X_training, X_prediction, y_training, y_prediction = train_test_split(X, y, test_size=0.05, random_state=0)\n",
    "\n",
    "# Dividir el dataset para entrenamiento y test.\n",
    "X_train, X_test, y_train, y_test = train_test_split(X_training, y_training, test_size=0.30, random_state=0)\n",
    "\n"
   ]
  },
  {
   "cell_type": "code",
   "execution_count": 10,
   "metadata": {},
   "outputs": [
    {
     "name": "stdout",
     "output_type": "stream",
     "text": [
      "7995\n",
      "421\n",
      "5596\n",
      "2399\n"
     ]
    }
   ],
   "source": [
    "# Imprimir las longitudes de los conjuntos finales\n",
    "print(len(X_training))\n",
    "print(len(X_prediction))\n",
    "print(len(X_train))\n",
    "print(len(X_test))"
   ]
  },
  {
   "cell_type": "markdown",
   "metadata": {},
   "source": [
    "## Entrenamiento y validacion del modelo"
   ]
  },
  {
   "cell_type": "code",
   "execution_count": 11,
   "metadata": {},
   "outputs": [
    {
     "data": {
      "text/plain": [
       "array([1, 1, 1, ..., 0, 1, 0])"
      ]
     },
     "execution_count": 11,
     "metadata": {},
     "output_type": "execute_result"
    }
   ],
   "source": [
    "from sklearn.neighbors import KNeighborsClassifier\n",
    "\n",
    "# Clasificación K Nearest neighbors \n",
    "k = 1\n",
    "\n",
    "# Definición del clasificador\n",
    "classifier = KNeighborsClassifier(n_neighbors=k)\n",
    "\n",
    "# Entrenamiento del clasificador con lo datos de entrenamiento y valores de clase para cada ejemplo\n",
    "classifier.fit(X_train, y_train)\n",
    "\n",
    "# Predicción con el clasificador entrenado en los datos de evaluación \n",
    "y_validation = classifier.predict(X_test)\n",
    "y_validation"
   ]
  },
  {
   "cell_type": "code",
   "execution_count": 12,
   "metadata": {},
   "outputs": [
    {
     "name": "stdout",
     "output_type": "stream",
     "text": [
      "Accuracy: 1.0\n",
      "Precision: 1.0\n",
      "Recall: 1.0\n",
      "F-score: 1.0\n"
     ]
    }
   ],
   "source": [
    "# Medidas de rendimiento del clasificador\n",
    "from sklearn.metrics import accuracy_score\n",
    "from sklearn.metrics import f1_score\n",
    "from sklearn.metrics import precision_score\n",
    "from sklearn.metrics import recall_score\n",
    "\n",
    "print(\"Accuracy: {}\".format(accuracy_score(y_test, y_validation)))\n",
    "print(\"Precision: {}\".format(precision_score(y_test, y_validation, average=\"macro\")))\n",
    "print(\"Recall: {}\".format(recall_score(y_test, y_validation, average=\"macro\")))\n",
    "print(\"F-score: {}\".format(f1_score(y_test, y_validation, average=\"macro\")))"
   ]
  },
  {
   "cell_type": "code",
   "execution_count": 13,
   "metadata": {},
   "outputs": [
    {
     "name": "stdout",
     "output_type": "stream",
     "text": [
      "              precision    recall  f1-score   support\n",
      "\n",
      "      Edible       1.00      1.00      1.00      1272\n",
      "   Poisonous       1.00      1.00      1.00      1127\n",
      "\n",
      "    accuracy                           1.00      2399\n",
      "   macro avg       1.00      1.00      1.00      2399\n",
      "weighted avg       1.00      1.00      1.00      2399\n",
      "\n"
     ]
    }
   ],
   "source": [
    "from sklearn.metrics import classification_report\n",
    "\n",
    "target_names = ['Edible', 'Poisonous']\n",
    "print(classification_report(y_test, y_validation, target_names=target_names))"
   ]
  },
  {
   "cell_type": "code",
   "execution_count": 17,
   "metadata": {},
   "outputs": [
    {
     "name": "stdout",
     "output_type": "stream",
     "text": [
      "[[1272    0]\n",
      " [   0 1127]]\n"
     ]
    },
    {
     "data": {
      "text/plain": [
       "<sklearn.metrics._plot.confusion_matrix.ConfusionMatrixDisplay at 0x7fcdbf2947f0>"
      ]
     },
     "execution_count": 17,
     "metadata": {},
     "output_type": "execute_result"
    },
    {
     "data": {
      "image/png": "[encoded data removed]",
      "text/plain": [
       "<Figure size 432x288 with 2 Axes>"
      ]
     },
     "metadata": {},
     "output_type": "display_data"
    }
   ],
   "source": [
    "from sklearn.metrics import confusion_matrix\n",
    "import matplotlib.pyplot as plt\n",
    "from sklearn.metrics import plot_confusion_matrix\n",
    "\n",
    "print(confusion_matrix(y_test, y_validation))\n",
    "plot_confusion_matrix(classifier, X_test, y_test, cmap=plt.cm.Blues, \n",
    "                      display_labels=['Edible', 'Poisonous'])  "
   ]
  },
  {
   "cell_type": "markdown",
   "metadata": {},
   "source": [
    "## Prediccion con datos nuevos"
   ]
  },
  {
   "cell_type": "code",
   "execution_count": 15,
   "metadata": {},
   "outputs": [
    {
     "data": {
      "text/plain": [
       "array([1, 0, 1, 0, 0, 1, 1, 1, 0, 1, 0, 0, 1, 0, 1, 1, 1, 1, 0, 1, 1, 1,\n",
       "       1, 0, 1, 1, 0, 1, 0, 1, 1, 1, 1, 1, 1, 1, 1, 1, 0, 1, 1, 1, 1, 1,\n",
       "       0, 0, 0, 0, 1, 1, 0, 0, 1, 1, 0, 0, 0, 1, 0, 0, 0, 0, 1, 1, 1, 1,\n",
       "       0, 1, 0, 1, 1, 0, 1, 1, 1, 0, 1, 0, 0, 1, 1, 1, 0, 0, 1, 1, 1, 1,\n",
       "       0, 0, 0, 0, 1, 0, 0, 0, 1, 1, 0, 1, 0, 0, 0, 1, 0, 0, 0, 0, 0, 1,\n",
       "       0, 1, 0, 0, 1, 1, 0, 1, 0, 1, 1, 0, 0, 0, 1, 1, 1, 1, 1, 0, 0, 0,\n",
       "       1, 0, 0, 0, 0, 0, 1, 0, 0, 0, 0, 1, 1, 1, 0, 0, 1, 1, 0, 1, 0, 0,\n",
       "       0, 0, 0, 1, 1, 1, 0, 1, 0, 1, 1, 1, 1, 0, 1, 0, 1, 0, 1, 1, 0, 1,\n",
       "       1, 0, 0, 0, 0, 1, 1, 1, 0, 0, 0, 1, 0, 0, 0, 0, 0, 0, 0, 0, 0, 0,\n",
       "       0, 1, 1, 1, 1, 1, 0, 0, 1, 1, 0, 1, 0, 0, 0, 0, 1, 0, 0, 1, 0, 1,\n",
       "       0, 1, 1, 1, 0, 0, 0, 0, 1, 0, 1, 0, 1, 0, 0, 1, 0, 1, 1, 0, 1, 0,\n",
       "       1, 1, 0, 1, 1, 1, 1, 1, 0, 1, 0, 1, 0, 1, 1, 0, 0, 0, 1, 1, 1, 0,\n",
       "       0, 0, 0, 0, 0, 1, 0, 0, 0, 0, 1, 0, 1, 1, 0, 0, 1, 1, 1, 0, 0, 0,\n",
       "       1, 0, 0, 0, 0, 0, 1, 0, 1, 1, 1, 1, 0, 1, 0, 0, 1, 1, 1, 1, 0, 1,\n",
       "       1, 1, 0, 0, 1, 1, 0, 0, 1, 0, 1, 1, 0, 0, 1, 1, 0, 1, 1, 1, 1, 0,\n",
       "       1, 1, 0, 1, 0, 1, 1, 0, 1, 1, 0, 1, 1, 1, 1, 0, 1, 0, 0, 0, 0, 1,\n",
       "       1, 0, 0, 0, 0, 0, 0, 1, 1, 1, 1, 1, 0, 0, 0, 1, 1, 0, 0, 1, 0, 1,\n",
       "       1, 0, 1, 0, 0, 1, 0, 0, 1, 1, 1, 0, 0, 0, 1, 1, 0, 0, 0, 1, 0, 1,\n",
       "       1, 0, 1, 1, 0, 1, 0, 1, 0, 1, 1, 0, 1, 1, 0, 0, 1, 1, 1, 1, 0, 1,\n",
       "       0, 0, 1])"
      ]
     },
     "execution_count": 15,
     "metadata": {},
     "output_type": "execute_result"
    }
   ],
   "source": [
    "# Predicción con el clasificador entrenado\n",
    "y_prediction_results = classifier.predict(X_prediction)\n",
    "y_prediction_results"
   ]
  },
  {
   "cell_type": "code",
   "execution_count": 16,
   "metadata": {},
   "outputs": [
    {
     "name": "stdout",
     "output_type": "stream",
     "text": [
      "[[208   0]\n",
      " [  0 213]]\n"
     ]
    },
    {
     "data": {
      "text/plain": [
       "<sklearn.metrics._plot.confusion_matrix.ConfusionMatrixDisplay at 0x7fcdbf306940>"
      ]
     },
     "execution_count": 16,
     "metadata": {},
     "output_type": "execute_result"
    },
    {
     "data": {
      "image/png": "[encoded data removed]",
      "text/plain": [
       "<Figure size 432x288 with 2 Axes>"
      ]
     },
     "metadata": {},
     "output_type": "display_data"
    }
   ],
   "source": [
    "from sklearn.metrics import confusion_matrix\n",
    "import matplotlib.pyplot as plt\n",
    "from sklearn.metrics import plot_confusion_matrix\n",
    "\n",
    "print(confusion_matrix(y_prediction, y_prediction_results))\n",
    "plot_confusion_matrix(classifier, X_prediction, y_prediction, cmap=plt.cm.Purples, \n",
    "                      display_labels=['Edible', 'Poisonous'])"
   ]
  }
 ],
 "metadata": {
  "kernelspec": {
   "display_name": "Python 3",
   "language": "python",
   "name": "python3"
  },
  "language_info": {
   "codemirror_mode": {
    "name": "ipython",
    "version": 3
   },
   "file_extension": ".py",
   "mimetype": "text/x-python",
   "name": "python",
   "nbconvert_exporter": "python",
   "pygments_lexer": "ipython3",
   "version": "3.6.5"
  }
 },
 "nbformat": 4,
 "nbformat_minor": 2
}
